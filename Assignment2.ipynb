{
  "nbformat": 4,
  "nbformat_minor": 0,
  "metadata": {
    "colab": {
      "provenance": []
    },
    "kernelspec": {
      "name": "python3",
      "display_name": "Python 3"
    },
    "language_info": {
      "name": "python"
    }
  },
  "cells": [
    {
      "cell_type": "code",
      "execution_count": null,
      "metadata": {
        "colab": {
          "base_uri": "https://localhost:8080/"
        },
        "id": "DAIV281h0SUn",
        "outputId": "4f657209-cc0e-4aa1-fc3f-4ad1789ae693"
      },
      "outputs": [
        {
          "output_type": "stream",
          "name": "stdout",
          "text": [
            "Enter a string value: Boon\n",
            "B=1, o=2, n=1, "
          ]
        }
      ],
      "source": [
        "string = input(\"Enter a string value: \")\n",
        "char_count = {}\n",
        "\n",
        "for char in string:\n",
        "    if char in char_count:\n",
        "        char_count[char] += 1\n",
        "    else:\n",
        "        char_count[char] = 1\n",
        "\n",
        "for char, count in char_count.items():\n",
        "    print(f\"{char}={count}\", end=\", \")\n"
      ]
    },
    {
      "cell_type": "code",
      "source": [
        "def find_max(num1, num2, num3):\n",
        "    return max(num1, num2, num3)\n",
        "num1 = 34\n",
        "num2 = 12\n",
        "num3 = 7\n",
        "max_num = find_max(num1, num2, num3)\n",
        "print(max_num)\n"
      ],
      "metadata": {
        "colab": {
          "base_uri": "https://localhost:8080/"
        },
        "id": "o37BjVFs1BCa",
        "outputId": "b3b1ca18-e61f-4a02-c095-9641ae497639"
      },
      "execution_count": null,
      "outputs": [
        {
          "output_type": "stream",
          "name": "stdout",
          "text": [
            "34\n"
          ]
        }
      ]
    },
    {
      "cell_type": "code",
      "source": [
        "def exponent(base, exp):\n",
        "    return base ** exp\n",
        "base = int(input(\"Enter the base: \"))\n",
        "exp = int(input(\"Enter the exponent: \"))\n",
        "result = exponent(base, exp)\n",
        "print(result)\n"
      ],
      "metadata": {
        "colab": {
          "base_uri": "https://localhost:8080/"
        },
        "id": "N4u-yVEw116M",
        "outputId": "1ae08ab0-8ed7-4d72-dce1-dd030c2b6b9c"
      },
      "execution_count": null,
      "outputs": [
        {
          "output_type": "stream",
          "name": "stdout",
          "text": [
            "Enter the base: 2\n",
            "Enter the exponent: 3\n",
            "8\n"
          ]
        }
      ]
    },
    {
      "cell_type": "code",
      "source": [
        "def sum_cubes(n):\n",
        "    total = 0\n",
        "    for i in range(1, n):\n",
        "        total += i ** 3\n",
        "    return total\n",
        "n = int(input(\"Enter a positive integer: \"))\n",
        "result = sum_cubes(n)\n",
        "print(result)\n"
      ],
      "metadata": {
        "colab": {
          "base_uri": "https://localhost:8080/"
        },
        "id": "-Hze5LVf2FQg",
        "outputId": "76b7b643-1c07-4979-c578-adcdf1d32df0"
      },
      "execution_count": null,
      "outputs": [
        {
          "output_type": "stream",
          "name": "stdout",
          "text": [
            "Enter a positive integer: 4\n",
            "36\n"
          ]
        }
      ]
    },
    {
      "cell_type": "code",
      "source": [
        "for i in range(1, 11):\n",
        "    if i % 2 == 0 and i % 5 == 0:\n",
        "        print(\"FizzBuzz\")\n",
        "    elif i % 2 == 0:\n",
        "        print(\"Fizz\")\n",
        "    elif i % 5 == 0:\n",
        "        print(\"Buzz\")\n",
        "    else:\n",
        "        print(i)\n"
      ],
      "metadata": {
        "colab": {
          "base_uri": "https://localhost:8080/"
        },
        "id": "OU2itkqo2Zjq",
        "outputId": "dac3f379-0f2b-4f7a-a321-1c455ad3c22c"
      },
      "execution_count": null,
      "outputs": [
        {
          "output_type": "stream",
          "name": "stdout",
          "text": [
            "1\n",
            "Fizz\n",
            "3\n",
            "Fizz\n",
            "Buzz\n",
            "Fizz\n",
            "7\n",
            "Fizz\n",
            "9\n",
            "FizzBuzz\n"
          ]
        }
      ]
    },
    {
      "cell_type": "code",
      "source": [
        "def most_frequent(lst):\n",
        "    count_dict = {}\n",
        "    max_count = 0\n",
        "    max_item = None\n",
        "    for item in lst:\n",
        "        if item not in count_dict:\n",
        "            count_dict[item] = 1\n",
        "        else:\n",
        "            count_dict[item] += 1\n",
        "        if count_dict[item] > max_count:\n",
        "            max_count = count_dict[item]\n",
        "            max_item = item\n",
        "    return max_item\n",
        "lst = [2, 3, 4, 2, 5, 2]\n",
        "result = most_frequent(lst)\n",
        "print(result)\n"
      ],
      "metadata": {
        "colab": {
          "base_uri": "https://localhost:8080/"
        },
        "id": "ZmbLi7vo3L4U",
        "outputId": "070e9b25-182f-4daf-acf1-9c03d2770e31"
      },
      "execution_count": null,
      "outputs": [
        {
          "output_type": "stream",
          "name": "stdout",
          "text": [
            "2\n"
          ]
        }
      ]
    },
    {
      "cell_type": "code",
      "source": [
        "def sum_of_squares(lst):\n",
        "    sum_squares = 0\n",
        "    for num in lst:\n",
        "        sum_squares += num ** 2\n",
        "    return sum_squares\n",
        "lst = [2, 1, 3, 1]\n",
        "result = sum_of_squares(lst)\n",
        "print(result)\n"
      ],
      "metadata": {
        "colab": {
          "base_uri": "https://localhost:8080/"
        },
        "id": "_fWK2SFA3PUl",
        "outputId": "b0faae27-7f44-4396-acba-acecdc328745"
      },
      "execution_count": null,
      "outputs": [
        {
          "output_type": "stream",
          "name": "stdout",
          "text": [
            "15\n"
          ]
        }
      ]
    },
    {
      "cell_type": "code",
      "source": [
        "for num in range(1, 16):\n",
        "    if num % 2 == 0:\n",
        "        print(num, \"- even\")\n",
        "    else:\n",
        "        print(num, \"- odd\")\n"
      ],
      "metadata": {
        "colab": {
          "base_uri": "https://localhost:8080/"
        },
        "id": "sk2ertGo4bOz",
        "outputId": "be2629dc-2ae0-48f6-b658-759590511120"
      },
      "execution_count": null,
      "outputs": [
        {
          "output_type": "stream",
          "name": "stdout",
          "text": [
            "1 - odd\n",
            "2 - even\n",
            "3 - odd\n",
            "4 - even\n",
            "5 - odd\n",
            "6 - even\n",
            "7 - odd\n",
            "8 - even\n",
            "9 - odd\n",
            "10 - even\n",
            "11 - odd\n",
            "12 - even\n",
            "13 - odd\n",
            "14 - even\n",
            "15 - odd\n"
          ]
        }
      ]
    },
    {
      "cell_type": "code",
      "source": [
        "def to_celsius(fahrenheit):\n",
        "    celsius = (fahrenheit - 32) * 5 / 9\n",
        "    return celsius\n",
        "\n",
        "def to_fahrenheit(celsius):\n",
        "    fahrenheit = (celsius * 9 / 5) + 32\n",
        "    return fahrenheit\n",
        "\n",
        "# Convert from Fahrenheit to Celsius\n",
        "fahrenheit = float(input(\"Temperature in Fahrenheit: \"))\n",
        "celsius = to_celsius(fahrenheit)\n",
        "print(\"Temperature in Celsius:\", celsius)\n",
        "\n",
        "# Convert from Celsius to Fahrenheit\n",
        "celsius = float(input(\"Temperature in Celsius: \"))\n",
        "fahrenheit = to_fahrenheit(celsius)\n",
        "print(\"Temperature in Fahrenheit:\", fahrenheit)\n"
      ],
      "metadata": {
        "colab": {
          "base_uri": "https://localhost:8080/"
        },
        "id": "tG4pitwG4uwD",
        "outputId": "89c1e6bc-728b-43e4-9f1b-d446ab43c658"
      },
      "execution_count": null,
      "outputs": [
        {
          "output_type": "stream",
          "name": "stdout",
          "text": [
            "Temperature in Fahrenheit: 34\n",
            "Temperature in Celsius: 1.1111111111111112\n",
            "Temperature in Celsius: 98\n",
            "Temperature in Fahrenheit: 208.4\n"
          ]
        }
      ]
    },
    {
      "cell_type": "code",
      "source": [
        "def factorial(n):\n",
        "    if n < 0:\n",
        "        return None\n",
        "    elif n == 0:\n",
        "        return 1\n",
        "    else:\n",
        "        result = 1\n",
        "        for i in range(1, n+1):\n",
        "            result *= i\n",
        "        return result\n",
        "n = 3\n",
        "result = factorial(n)\n",
        "print(result)  # output: 6\n"
      ],
      "metadata": {
        "colab": {
          "base_uri": "https://localhost:8080/"
        },
        "id": "wLEoRyJN59D7",
        "outputId": "66e97b45-d850-41c7-9b44-0dadf4a8a595"
      },
      "execution_count": null,
      "outputs": [
        {
          "output_type": "stream",
          "name": "stdout",
          "text": [
            "6\n"
          ]
        }
      ]
    },
    {
      "cell_type": "code",
      "source": [
        "a=\"abcd\"\n",
        "b=\"p\"\n",
        "while b in a:\n",
        "      print(b,end=\" \")"
      ],
      "metadata": {
        "id": "vo2euH587d1D"
      },
      "execution_count": null,
      "outputs": []
    },
    {
      "cell_type": "code",
      "source": [
        "print(True**False/True*False)"
      ],
      "metadata": {
        "colab": {
          "base_uri": "https://localhost:8080/"
        },
        "id": "Fepy3LMT7iuT",
        "outputId": "dca71a74-3a00-4cf6-9ddc-caa4236889a3"
      },
      "execution_count": null,
      "outputs": [
        {
          "output_type": "stream",
          "name": "stdout",
          "text": [
            "0.0\n"
          ]
        }
      ]
    },
    {
      "cell_type": "code",
      "source": [
        "L=['a','b','c','d','e','hello',[1,2,3]]\n",
        "print(L[5])"
      ],
      "metadata": {
        "colab": {
          "base_uri": "https://localhost:8080/"
        },
        "id": "Wx6IRVuv7pM3",
        "outputId": "85a3a82d-bf7f-4508-b7cc-aad2d7b73764"
      },
      "execution_count": null,
      "outputs": [
        {
          "output_type": "stream",
          "name": "stdout",
          "text": [
            "hello\n"
          ]
        }
      ]
    },
    {
      "cell_type": "code",
      "source": [
        "print(round(8.479))"
      ],
      "metadata": {
        "colab": {
          "base_uri": "https://localhost:8080/"
        },
        "id": "hb6zKZvc7vHF",
        "outputId": "a95fc4a6-f1ba-4e7a-9a8f-12686e1b9c7e"
      },
      "execution_count": null,
      "outputs": [
        {
          "output_type": "stream",
          "name": "stdout",
          "text": [
            "8\n"
          ]
        }
      ]
    },
    {
      "cell_type": "code",
      "source": [
        "a = {1 : 1, 2 : '2', '1' : 1, '2' : 3}\n",
        "a['1'] = 2\n",
        "print(a[a[a[str(a[1])]]])"
      ],
      "metadata": {
        "colab": {
          "base_uri": "https://localhost:8080/"
        },
        "id": "sWjIGd3d7wuC",
        "outputId": "9a8ade0e-c5c1-4840-bdc5-3cefb4d0a9f0"
      },
      "execution_count": null,
      "outputs": [
        {
          "output_type": "stream",
          "name": "stdout",
          "text": [
            "3\n"
          ]
        }
      ]
    },
    {
      "cell_type": "code",
      "source": [
        "colors = [\"green\", \"pink\", \"red\", \"white\"]\n",
        "print(\"yellow\" in colors)"
      ],
      "metadata": {
        "colab": {
          "base_uri": "https://localhost:8080/"
        },
        "id": "iGUOcqp071jG",
        "outputId": "0e8d7e22-0a2c-4156-c763-ae74f444c450"
      },
      "execution_count": null,
      "outputs": [
        {
          "output_type": "stream",
          "name": "stdout",
          "text": [
            "False\n"
          ]
        }
      ]
    },
    {
      "cell_type": "code",
      "source": [
        "L=list(\"ictak kerala\")\n",
        "print(L[8 : -1])"
      ],
      "metadata": {
        "colab": {
          "base_uri": "https://localhost:8080/"
        },
        "id": "78WeYJSX8AOD",
        "outputId": "b4e4acf2-c9e3-4c0a-eea0-0f061c4e2e61"
      },
      "execution_count": null,
      "outputs": [
        {
          "output_type": "stream",
          "name": "stdout",
          "text": [
            "['r', 'a', 'l']\n"
          ]
        }
      ]
    },
    {
      "cell_type": "code",
      "source": [
        "print(print(print(\"Hello world\")))"
      ],
      "metadata": {
        "colab": {
          "base_uri": "https://localhost:8080/"
        },
        "id": "GBmQMwYm8GDg",
        "outputId": "098a6a48-1799-49f1-ab07-de6918b2b0f2"
      },
      "execution_count": null,
      "outputs": [
        {
          "output_type": "stream",
          "name": "stdout",
          "text": [
            "Hello world\n",
            "None\n",
            "None\n"
          ]
        }
      ]
    },
    {
      "cell_type": "code",
      "source": [
        "L = [1,3,4,5,6,7,8]\n",
        "print(L[1::2])\n",
        "print(L[0:7:])\n",
        "print(L[1:8:2])"
      ],
      "metadata": {
        "colab": {
          "base_uri": "https://localhost:8080/"
        },
        "id": "6PeCbxNP8PzL",
        "outputId": "6aedc8af-e397-47bf-d126-f5740e01c44b"
      },
      "execution_count": null,
      "outputs": [
        {
          "output_type": "stream",
          "name": "stdout",
          "text": [
            "[3, 5, 7]\n",
            "[1, 3, 4, 5, 6, 7, 8]\n",
            "[3, 5, 7]\n"
          ]
        }
      ]
    },
    {
      "cell_type": "code",
      "source": [],
      "metadata": {
        "id": "dYx5OExZ8fnG"
      },
      "execution_count": null,
      "outputs": []
    }
  ]
}