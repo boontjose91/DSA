{
 "cells": [
  {
   "cell_type": "code",
   "execution_count": 2,
   "id": "e89308aa",
   "metadata": {},
   "outputs": [
    {
     "name": "stdout",
     "output_type": "stream",
     "text": [
      "Enter the radius of the circle: 4\n",
      "The area of the circle is:  50.26548245743669\n"
     ]
    }
   ],
   "source": [
    "#area of circle\n",
    "import math\n",
    "\n",
    "radius = float(input(\"Enter the radius of the circle: \"))\n",
    "\n",
    "area = math.pi * radius**2\n",
    "\n",
    "print(\"The area of the circle is: \", area)\n"
   ]
  },
  {
   "cell_type": "code",
   "execution_count": 1,
   "id": "05b6d3a2",
   "metadata": {},
   "outputs": [
    {
     "name": "stdout",
     "output_type": "stream",
     "text": [
      "Enter the student's name: Boon\n",
      "Enter the student's roll number: 12\n",
      "Enter the student's marks: 45\n",
      "Name:  Boon\n",
      "Roll number:  12\n",
      "Marks:  45.0\n"
     ]
    }
   ],
   "source": [
    "#details of a student\n",
    "name = input(\"Enter the student's name: \")\n",
    "roll_number = int(input(\"Enter the student's roll number: \"))\n",
    "marks = float(input(\"Enter the student's marks: \"))\n",
    "\n",
    "print(\"Name: \", name)\n",
    "print(\"Roll number: \", roll_number)\n",
    "print(\"Marks: \", marks)\n"
   ]
  },
  {
   "cell_type": "code",
   "execution_count": 5,
   "id": "c4ab0df6",
   "metadata": {},
   "outputs": [
    {
     "name": "stdout",
     "output_type": "stream",
     "text": [
      "Enter a list of numbers, separated by comma: 1,23,4,5,6,7,92,0,-45\n",
      "The largest number is:  92\n"
     ]
    }
   ],
   "source": [
    "#largest number\n",
    "# get the input list as a string and split it into a list of numbers\n",
    "numbers_str = input(\"Enter a list of numbers, separated by comma: \")\n",
    "numbers = [int(n) for n in numbers_str.split(',')]\n",
    "\n",
    "largest = max(numbers)\n",
    "\n",
    "print(\"The largest number is: \", largest)\n"
   ]
  },
  {
   "cell_type": "code",
   "execution_count": 67,
   "id": "91f6d06a",
   "metadata": {},
   "outputs": [
    {
     "name": "stdout",
     "output_type": "stream",
     "text": [
      "Enter a list of numbers, separated by comma: 1,2,3,4\n",
      "4\n",
      "Current number 1\n",
      "Previous number 0\n",
      "SUM: 1\n",
      "Current number 2\n",
      "Previous number 1\n",
      "SUM: 3\n",
      "Current number 3\n",
      "Previous number 2\n",
      "SUM: 5\n",
      "Current number 4\n",
      "Previous number 3\n",
      "SUM: 7\n"
     ]
    }
   ],
   "source": [
    "#Iterate Number\n",
    "numbers_str = input(\"Enter a list of numbers, separated by comma: \")\n",
    "numbers = [int(n) for n in numbers_str.split(',')]\n",
    "j=len(numbers)\n",
    "print(j)\n",
    "for i in range(0,len(numbers)):\n",
    "    print('Current number',numbers[i])\n",
    "    if i-1<0:\n",
    "        print('Previous number 0')\n",
    "        print('SUM:',numbers[i]+0)\n",
    "    else:\n",
    "        print('Previous number',numbers[i-1])\n",
    "        print('SUM:',numbers[i]+numbers[i-1])\n",
    "    \n"
   ]
  },
  {
   "cell_type": "code",
   "execution_count": 22,
   "id": "d1e02107",
   "metadata": {},
   "outputs": [
    {
     "name": "stdout",
     "output_type": "stream",
     "text": [
      "Enter a list of numbers, separated by comma: 10,2,4,5,90,55\n",
      "10\n",
      "5\n",
      "90\n",
      "55\n"
     ]
    }
   ],
   "source": [
    "#divisble by 5\n",
    "numbers_str = input(\"Enter a list of numbers, separated by comma: \")\n",
    "numbers = [int(n) for n in numbers_str.split(',')]\n",
    "\n",
    "for number in numbers:\n",
    "    if number % 5 == 0:\n",
    "        print(number)"
   ]
  },
  {
   "cell_type": "code",
   "execution_count": 47,
   "id": "7272069c",
   "metadata": {},
   "outputs": [
    {
     "name": "stdout",
     "output_type": "stream",
     "text": [
      "Enter a number: 3\n",
      "3 is a prime number.\n"
     ]
    }
   ],
   "source": [
    "#Prime Number\n",
    "n = int(input(\"Enter a number: \"))\n",
    "if n==1:\n",
    "    print('1 is niether prime nor composite')\n",
    "if n ==2:\n",
    "  print(n, \"is not a prime number.\")\n",
    "elif n>2:\n",
    "  for i in range(2, int(n/2) + 1):\n",
    "    if n % i == 0:\n",
    "      print(n, \"is not a prime number.\")\n",
    "      break\n",
    "  else:\n",
    "    print(n, \"is a prime number.\")\n"
   ]
  },
  {
   "cell_type": "code",
   "execution_count": 66,
   "id": "b5339fa0",
   "metadata": {},
   "outputs": [
    {
     "name": "stdout",
     "output_type": "stream",
     "text": [
      "Enter a list of numbers, separated by comma: 1,2,3,4\n",
      "[1, 2, 3, 4]\n",
      "4\n",
      "3\n",
      "2\n",
      "1\n"
     ]
    }
   ],
   "source": [
    "#reverse a list using loop\n",
    "lst_str = input(\"Enter a list of numbers, separated by comma: \")\n",
    "lst = [int(n) for n in lst_str.split(',')]\n",
    "print(lst)\n",
    "j=len(lst)\n",
    "for i in range(0,j):\n",
    "    print(lst[j-1])\n",
    "    j-=1"
   ]
  },
  {
   "cell_type": "code",
   "execution_count": 79,
   "id": "6b531fd3",
   "metadata": {},
   "outputs": [
    {
     "name": "stdout",
     "output_type": "stream",
     "text": [
      "\n",
      "*\n",
      "**\n",
      "***\n",
      "****\n",
      "*****\n"
     ]
    }
   ],
   "source": [
    "#print Pattern1\n",
    "for i in range(0,6):\n",
    "    print('*'*i)\n"
   ]
  },
  {
   "cell_type": "code",
   "execution_count": 72,
   "id": "0975ce3a",
   "metadata": {},
   "outputs": [
    {
     "name": "stdout",
     "output_type": "stream",
     "text": [
      "*\n",
      "**\n",
      "***\n",
      "****\n",
      "*****\n",
      "****\n",
      "***\n",
      "**\n",
      "*\n"
     ]
    }
   ],
   "source": [
    "#print Pattern2\n",
    "# print the first half of the pattern\n",
    "for i in range(1, 6):\n",
    "  print(\"*\" * i)\n",
    "\n",
    "# print the second half of the pattern\n",
    "for i in range(4, 0, -1):\n",
    "  print(\"*\" * i)"
   ]
  },
  {
   "cell_type": "code",
   "execution_count": 81,
   "id": "40844eac",
   "metadata": {},
   "outputs": [
    {
     "name": "stdout",
     "output_type": "stream",
     "text": [
      "1st no2\n",
      "2nd no4\n",
      "3rd no1\n",
      "4\n"
     ]
    }
   ],
   "source": [
    "#Max of 3 numbers\n",
    "a=int(input('1st no'))\n",
    "b=int(input('2nd no'))\n",
    "c=int(input('3rd no'))\n",
    "print(max(a,b,c))"
   ]
  },
  {
   "cell_type": "code",
   "execution_count": null,
   "id": "83410c77",
   "metadata": {},
   "outputs": [],
   "source": []
  }
 ],
 "metadata": {
  "kernelspec": {
   "display_name": "Python 3 (ipykernel)",
   "language": "python",
   "name": "python3"
  },
  "language_info": {
   "codemirror_mode": {
    "name": "ipython",
    "version": 3
   },
   "file_extension": ".py",
   "mimetype": "text/x-python",
   "name": "python",
   "nbconvert_exporter": "python",
   "pygments_lexer": "ipython3",
   "version": "3.9.13"
  }
 },
 "nbformat": 4,
 "nbformat_minor": 5
}
